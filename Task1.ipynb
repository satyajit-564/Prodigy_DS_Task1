{
 "cells": [
  {
   "cell_type": "code",
   "execution_count": 1,
   "id": "c91d12d0-238e-480d-bece-c4116a0deba1",
   "metadata": {},
   "outputs": [],
   "source": [
    "import numpy as np\n",
    "import matplotlib.pyplot as plt\n",
    "import pandas as pd\n",
    "import seaborn as sns"
   ]
  },
  {
   "cell_type": "code",
   "execution_count": 2,
   "id": "1aae84ca-acee-49dd-84a6-a0d4b9928e11",
   "metadata": {},
   "outputs": [],
   "source": [
    "df = pd.read_csv(\"Metadata_Country_API_SP.POP.TOTL_DS2_en_csv_v2_6548260.csv\")"
   ]
  },
  {
   "cell_type": "code",
   "execution_count": 3,
   "id": "07f3da4d-25f7-40a8-8434-8ecc147bbecb",
   "metadata": {},
   "outputs": [
    {
     "data": {
      "text/html": [
       "<div>\n",
       "<style scoped>\n",
       "    .dataframe tbody tr th:only-of-type {\n",
       "        vertical-align: middle;\n",
       "    }\n",
       "\n",
       "    .dataframe tbody tr th {\n",
       "        vertical-align: top;\n",
       "    }\n",
       "\n",
       "    .dataframe thead th {\n",
       "        text-align: right;\n",
       "    }\n",
       "</style>\n",
       "<table border=\"1\" class=\"dataframe\">\n",
       "  <thead>\n",
       "    <tr style=\"text-align: right;\">\n",
       "      <th></th>\n",
       "      <th>Country Code</th>\n",
       "      <th>Region</th>\n",
       "      <th>IncomeGroup</th>\n",
       "      <th>SpecialNotes</th>\n",
       "      <th>TableName</th>\n",
       "      <th>Unnamed: 5</th>\n",
       "    </tr>\n",
       "  </thead>\n",
       "  <tbody>\n",
       "    <tr>\n",
       "      <th>0</th>\n",
       "      <td>ABW</td>\n",
       "      <td>Latin America &amp; Caribbean</td>\n",
       "      <td>High income</td>\n",
       "      <td>NaN</td>\n",
       "      <td>Aruba</td>\n",
       "      <td>NaN</td>\n",
       "    </tr>\n",
       "    <tr>\n",
       "      <th>1</th>\n",
       "      <td>AFE</td>\n",
       "      <td>NaN</td>\n",
       "      <td>NaN</td>\n",
       "      <td>26 countries, stretching from the Red Sea in t...</td>\n",
       "      <td>Africa Eastern and Southern</td>\n",
       "      <td>NaN</td>\n",
       "    </tr>\n",
       "    <tr>\n",
       "      <th>2</th>\n",
       "      <td>AFG</td>\n",
       "      <td>South Asia</td>\n",
       "      <td>Low income</td>\n",
       "      <td>The reporting period for national accounts dat...</td>\n",
       "      <td>Afghanistan</td>\n",
       "      <td>NaN</td>\n",
       "    </tr>\n",
       "    <tr>\n",
       "      <th>3</th>\n",
       "      <td>AFW</td>\n",
       "      <td>NaN</td>\n",
       "      <td>NaN</td>\n",
       "      <td>22 countries, stretching from the westernmost ...</td>\n",
       "      <td>Africa Western and Central</td>\n",
       "      <td>NaN</td>\n",
       "    </tr>\n",
       "    <tr>\n",
       "      <th>4</th>\n",
       "      <td>AGO</td>\n",
       "      <td>Sub-Saharan Africa</td>\n",
       "      <td>Lower middle income</td>\n",
       "      <td>The World Bank systematically assesses the app...</td>\n",
       "      <td>Angola</td>\n",
       "      <td>NaN</td>\n",
       "    </tr>\n",
       "    <tr>\n",
       "      <th>...</th>\n",
       "      <td>...</td>\n",
       "      <td>...</td>\n",
       "      <td>...</td>\n",
       "      <td>...</td>\n",
       "      <td>...</td>\n",
       "      <td>...</td>\n",
       "    </tr>\n",
       "    <tr>\n",
       "      <th>260</th>\n",
       "      <td>XKX</td>\n",
       "      <td>Europe &amp; Central Asia</td>\n",
       "      <td>Upper middle income</td>\n",
       "      <td>NaN</td>\n",
       "      <td>Kosovo</td>\n",
       "      <td>NaN</td>\n",
       "    </tr>\n",
       "    <tr>\n",
       "      <th>261</th>\n",
       "      <td>YEM</td>\n",
       "      <td>Middle East &amp; North Africa</td>\n",
       "      <td>Low income</td>\n",
       "      <td>The World Bank systematically assesses the app...</td>\n",
       "      <td>Yemen, Rep.</td>\n",
       "      <td>NaN</td>\n",
       "    </tr>\n",
       "    <tr>\n",
       "      <th>262</th>\n",
       "      <td>ZAF</td>\n",
       "      <td>Sub-Saharan Africa</td>\n",
       "      <td>Upper middle income</td>\n",
       "      <td>Fiscal year end: March 31; reporting period fo...</td>\n",
       "      <td>South Africa</td>\n",
       "      <td>NaN</td>\n",
       "    </tr>\n",
       "    <tr>\n",
       "      <th>263</th>\n",
       "      <td>ZMB</td>\n",
       "      <td>Sub-Saharan Africa</td>\n",
       "      <td>Lower middle income</td>\n",
       "      <td>National accounts data were rebased to reflect...</td>\n",
       "      <td>Zambia</td>\n",
       "      <td>NaN</td>\n",
       "    </tr>\n",
       "    <tr>\n",
       "      <th>264</th>\n",
       "      <td>ZWE</td>\n",
       "      <td>Sub-Saharan Africa</td>\n",
       "      <td>Lower middle income</td>\n",
       "      <td>National Accounts data are reported in Zimbabw...</td>\n",
       "      <td>Zimbabwe</td>\n",
       "      <td>NaN</td>\n",
       "    </tr>\n",
       "  </tbody>\n",
       "</table>\n",
       "<p>265 rows × 6 columns</p>\n",
       "</div>"
      ],
      "text/plain": [
       "    Country Code                      Region          IncomeGroup  \\\n",
       "0            ABW   Latin America & Caribbean          High income   \n",
       "1            AFE                         NaN                  NaN   \n",
       "2            AFG                  South Asia           Low income   \n",
       "3            AFW                         NaN                  NaN   \n",
       "4            AGO          Sub-Saharan Africa  Lower middle income   \n",
       "..           ...                         ...                  ...   \n",
       "260          XKX       Europe & Central Asia  Upper middle income   \n",
       "261          YEM  Middle East & North Africa           Low income   \n",
       "262          ZAF          Sub-Saharan Africa  Upper middle income   \n",
       "263          ZMB          Sub-Saharan Africa  Lower middle income   \n",
       "264          ZWE          Sub-Saharan Africa  Lower middle income   \n",
       "\n",
       "                                          SpecialNotes  \\\n",
       "0                                                  NaN   \n",
       "1    26 countries, stretching from the Red Sea in t...   \n",
       "2    The reporting period for national accounts dat...   \n",
       "3    22 countries, stretching from the westernmost ...   \n",
       "4    The World Bank systematically assesses the app...   \n",
       "..                                                 ...   \n",
       "260                                                NaN   \n",
       "261  The World Bank systematically assesses the app...   \n",
       "262  Fiscal year end: March 31; reporting period fo...   \n",
       "263  National accounts data were rebased to reflect...   \n",
       "264  National Accounts data are reported in Zimbabw...   \n",
       "\n",
       "                       TableName  Unnamed: 5  \n",
       "0                          Aruba         NaN  \n",
       "1    Africa Eastern and Southern         NaN  \n",
       "2                    Afghanistan         NaN  \n",
       "3     Africa Western and Central         NaN  \n",
       "4                         Angola         NaN  \n",
       "..                           ...         ...  \n",
       "260                       Kosovo         NaN  \n",
       "261                  Yemen, Rep.         NaN  \n",
       "262                 South Africa         NaN  \n",
       "263                       Zambia         NaN  \n",
       "264                     Zimbabwe         NaN  \n",
       "\n",
       "[265 rows x 6 columns]"
      ]
     },
     "execution_count": 3,
     "metadata": {},
     "output_type": "execute_result"
    }
   ],
   "source": [
    "df"
   ]
  },
  {
   "cell_type": "code",
   "execution_count": 5,
   "id": "23db2cc6-580d-4aff-800e-60eb2a2501a2",
   "metadata": {},
   "outputs": [
    {
     "data": {
      "image/png": "[encoded data removed]",
      "text/plain": [
       "<Figure size 640x480 with 1 Axes>"
      ]
     },
     "metadata": {},
     "output_type": "display_data"
    }
   ],
   "source": [
    "gender_counts = df[\"Region\"].value_counts()\n",
    "bar_width = 0.9\n",
    "x = range(len(gender_counts.index))\n",
    "\n",
    "plt.bar(gender_counts.index,gender_counts.values)\n",
    "plt.xlabel(\"Region\")\n",
    "plt.ylabel(\"Count\")\n",
    "plt.title(\"Distribution of the region\")\n",
    "\n",
    "plt.xticks(x,gender_counts.index,rotation=45)\n",
    "plt.tight_layout()\n",
    "plt.show()"
   ]
  },
  {
   "cell_type": "code",
   "execution_count": 6,
   "id": "9a341748-0c9f-4a47-a88e-db183b4a78ff",
   "metadata": {},
   "outputs": [
    {
     "data": {
      "text/plain": [
       "(265, 6)"
      ]
     },
     "execution_count": 6,
     "metadata": {},
     "output_type": "execute_result"
    }
   ],
   "source": [
    "df.shape"
   ]
  },
  {
   "cell_type": "code",
   "execution_count": 7,
   "id": "ceeb9572-e23f-4456-976d-640af724364a",
   "metadata": {},
   "outputs": [
    {
     "name": "stdout",
     "output_type": "stream",
     "text": [
      "<class 'pandas.core.frame.DataFrame'>\n",
      "RangeIndex: 265 entries, 0 to 264\n",
      "Data columns (total 6 columns):\n",
      " #   Column        Non-Null Count  Dtype  \n",
      "---  ------        --------------  -----  \n",
      " 0   Country Code  265 non-null    object \n",
      " 1   Region        217 non-null    object \n",
      " 2   IncomeGroup   216 non-null    object \n",
      " 3   SpecialNotes  126 non-null    object \n",
      " 4   TableName     265 non-null    object \n",
      " 5   Unnamed: 5    0 non-null      float64\n",
      "dtypes: float64(1), object(5)\n",
      "memory usage: 12.6+ KB\n"
     ]
    }
   ],
   "source": [
    "df.info()"
   ]
  },
  {
   "cell_type": "code",
   "execution_count": 8,
   "id": "842fa9c4-22ff-4bd3-b4a1-7340d9508581",
   "metadata": {},
   "outputs": [
    {
     "data": {
      "text/html": [
       "<div>\n",
       "<style scoped>\n",
       "    .dataframe tbody tr th:only-of-type {\n",
       "        vertical-align: middle;\n",
       "    }\n",
       "\n",
       "    .dataframe tbody tr th {\n",
       "        vertical-align: top;\n",
       "    }\n",
       "\n",
       "    .dataframe thead th {\n",
       "        text-align: right;\n",
       "    }\n",
       "</style>\n",
       "<table border=\"1\" class=\"dataframe\">\n",
       "  <thead>\n",
       "    <tr style=\"text-align: right;\">\n",
       "      <th></th>\n",
       "      <th>Unnamed: 5</th>\n",
       "    </tr>\n",
       "  </thead>\n",
       "  <tbody>\n",
       "    <tr>\n",
       "      <th>count</th>\n",
       "      <td>0.0</td>\n",
       "    </tr>\n",
       "    <tr>\n",
       "      <th>mean</th>\n",
       "      <td>NaN</td>\n",
       "    </tr>\n",
       "    <tr>\n",
       "      <th>std</th>\n",
       "      <td>NaN</td>\n",
       "    </tr>\n",
       "    <tr>\n",
       "      <th>min</th>\n",
       "      <td>NaN</td>\n",
       "    </tr>\n",
       "    <tr>\n",
       "      <th>25%</th>\n",
       "      <td>NaN</td>\n",
       "    </tr>\n",
       "    <tr>\n",
       "      <th>50%</th>\n",
       "      <td>NaN</td>\n",
       "    </tr>\n",
       "    <tr>\n",
       "      <th>75%</th>\n",
       "      <td>NaN</td>\n",
       "    </tr>\n",
       "    <tr>\n",
       "      <th>max</th>\n",
       "      <td>NaN</td>\n",
       "    </tr>\n",
       "  </tbody>\n",
       "</table>\n",
       "</div>"
      ],
      "text/plain": [
       "       Unnamed: 5\n",
       "count         0.0\n",
       "mean          NaN\n",
       "std           NaN\n",
       "min           NaN\n",
       "25%           NaN\n",
       "50%           NaN\n",
       "75%           NaN\n",
       "max           NaN"
      ]
     },
     "execution_count": 8,
     "metadata": {},
     "output_type": "execute_result"
    }
   ],
   "source": [
    "df.describe()"
   ]
  },
  {
   "cell_type": "code",
   "execution_count": 9,
   "id": "628778bf-ae0d-4171-a6da-69fd39bdb43a",
   "metadata": {},
   "outputs": [
    {
     "data": {
      "text/plain": [
       "Country Code      0\n",
       "Region           48\n",
       "IncomeGroup      49\n",
       "SpecialNotes    139\n",
       "TableName         0\n",
       "Unnamed: 5      265\n",
       "dtype: int64"
      ]
     },
     "execution_count": 9,
     "metadata": {},
     "output_type": "execute_result"
    }
   ],
   "source": [
    "df.isnull().sum()"
   ]
  },
  {
   "cell_type": "code",
   "execution_count": null,
   "id": "dd7ec013-22bb-4fdd-8084-8f087cd2a49a",
   "metadata": {},
   "outputs": [],
   "source": []
  }
 ],
 "metadata": {
  "kernelspec": {
   "display_name": "Python 3 (ipykernel)",
   "language": "python",
   "name": "python3"
  },
  "language_info": {
   "codemirror_mode": {
    "name": "ipython",
    "version": 3
   },
   "file_extension": ".py",
   "mimetype": "text/x-python",
   "name": "python",
   "nbconvert_exporter": "python",
   "pygments_lexer": "ipython3",
   "version": "3.12.1"
  }
 },
 "nbformat": 4,
 "nbformat_minor": 5
}
